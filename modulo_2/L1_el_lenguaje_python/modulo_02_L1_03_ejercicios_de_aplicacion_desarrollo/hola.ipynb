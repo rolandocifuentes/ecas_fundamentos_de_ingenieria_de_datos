{
 "cells": [
  {
   "cell_type": "markdown",
   "id": "192a4000-550b-4e3d-9595-8a985d97d249",
   "metadata": {},
   "source": [
    "Módulo 02 Lección 01 - 03 Ejercicios de aplicacion\n",
    "# El Lenguaje Python\n",
    "*Mi primer programa en Python*<br>  \n",
    "**Instrucciones:**  \n",
    "Ingresa el nombre y la edad por un usuario y posteriormente muetra la información ingresada"
   ]
  },
  {
   "cell_type": "code",
   "execution_count": 6,
   "id": "b0567372-dc77-471b-a6f7-a2a7e1e90745",
   "metadata": {},
   "outputs": [
    {
     "name": "stdin",
     "output_type": "stream",
     "text": [
      "¿Cuál es tu nombre?  r\n"
     ]
    },
    {
     "name": "stdout",
     "output_type": "stream",
     "text": [
      "¡Hola, r! Bienvenido al mundo de Python.\n"
     ]
    }
   ],
   "source": [
    "# Solicita ingresar el nombre\n",
    "nombre = input(\"¿Cuál es tu nombre? \")\n",
    "# Muestra información por consola\n",
    "print(f\"¡Hola, {nombre}! Bienvenido al mundo de Python.\")"
   ]
  },
  {
   "cell_type": "code",
   "execution_count": 7,
   "id": "9f59f6e0-ab5e-4e1f-88b3-87ecfdeb1176",
   "metadata": {},
   "outputs": [
    {
     "name": "stdin",
     "output_type": "stream",
     "text": [
      "¿Qué edad tienes?  3\n"
     ]
    },
    {
     "name": "stdout",
     "output_type": "stream",
     "text": [
      "Eres menor de edad.\n"
     ]
    }
   ],
   "source": [
    "# Solicita ingresar edad\n",
    "edad = int(input(\"¿Qué edad tienes? \"))\n",
    "# Condiciona por edad\n",
    "if edad >= 18:\n",
    "    print(\"Eres mayor de edad.\")\n",
    "else:\n",
    "    print(\"Eres menor de edad.\")"
   ]
  },
  {
   "cell_type": "markdown",
   "id": "8a9a424a-8c58-43d3-9e6e-bc5086384a4e",
   "metadata": {},
   "source": [
    "**Explicación:**  \n",
    "-  Primera celda ingresa el nombre del usuario\n",
    "-  Segunda celda ingresa la edad del usuario y luego bloque if / else condiciona si es mayor o menor de edad"
   ]
  }
 ],
 "metadata": {
  "kernelspec": {
   "display_name": "Python 3 (ipykernel)",
   "language": "python",
   "name": "python3"
  },
  "language_info": {
   "codemirror_mode": {
    "name": "ipython",
    "version": 3
   },
   "file_extension": ".py",
   "mimetype": "text/x-python",
   "name": "python",
   "nbconvert_exporter": "python",
   "pygments_lexer": "ipython3",
   "version": "3.13.3"
  }
 },
 "nbformat": 4,
 "nbformat_minor": 5
}
