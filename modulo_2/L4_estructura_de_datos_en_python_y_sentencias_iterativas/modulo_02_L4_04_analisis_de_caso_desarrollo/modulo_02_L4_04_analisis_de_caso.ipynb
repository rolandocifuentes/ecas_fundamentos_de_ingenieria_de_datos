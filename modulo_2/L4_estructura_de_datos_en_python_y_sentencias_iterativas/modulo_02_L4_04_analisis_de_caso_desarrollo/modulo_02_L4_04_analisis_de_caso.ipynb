{
 "cells": [
  {
   "cell_type": "markdown",
   "id": "49af46f8-4709-44a5-908f-29815224a42f",
   "metadata": {},
   "source": [
    "Módulo 02 Lección 4 - 04 Análisis de caso\n",
    "# Estructura de datos en Python y sentencias iterativas\n",
    "\n",
    "**Instrucciones generales Referente:**\n",
    "\n",
    "El análisis de casos tiene como objetivo permitir a los participantes aplicar de manera práctica los conceptos y habilidades aprendidos en la lección a una situación realista o simulada. Se espera que el caso propuesto presente un desafío concreto, donde los participantes deban analizar, tomar decisiones y proponer soluciones efectivas basadas en su conocimiento\n",
    "\n",
    "**Situación inicial** 📍\n",
    "Una empresa de tecnología llamada DataSolvers se especializa en la gestión de grandes volúmenes de datos para diversos clientes, ayudándoles a analizar y organizar su información de manera eficiente. Actualmente, DataSolvers está desarrollando un sistema para analizar y categorizar datos financieros provenientes de diferentes fuentes. En su fase actual, el equipo de desarrollo necesita implementar estructuras de datos eficientes para almacenar y procesar esta información. Debido a la complejidad del proyecto, se enfrentan a un desafío: optimizar el almacenamiento y acceso a los datos mientras utilizan sentencias iterativas para analizar grandes\n",
    "conjuntos de información. Se espera que el equipo utilice listas, diccionarios y conjuntos en Python para manejar la carga de datos de forma efectiva.\n",
    "\n",
    "**Descripción del Caso** 🔎\n",
    "Eres un desarrollador de DataSolvers encargado de liderar la optimización de las estructuras de datos para el sistema de análisis financiero. Tu misión es diseñar una serie de funciones que utilicen sentencias iterativas y estructuras de datos\n",
    "adecuadas para procesar y analizar los datos financieros, garantizando eficiencia y precisión en los resultados. Tendrás que resolver los siguientes desafíos basándote en los conceptos estudiados.\n",
    "\n",
    "A partir del mismo, realiza lo siguiente:\n",
    "1.  **Análisis de la Estructura de Datos**\n",
    "-  Analiza cómo las estructuras de datos en Python (listas y diccionarios) ayudan a organizar y manipular los datos en el código de ejemplo. Describe las principales ventajas de usar listas para almacenar transacciones y diccionarios para categorizar ingresos.\n",
    "-  Identifica posibles limitaciones o mejoras al utilizar estas estructuras en el proyecto de DataSolvers.\n",
    "2.  **Optimización de Sentencias Iterativas**\n",
    "Explica cómo se pueden optimizar las sentencias iterativas en las funciones calcular_total_ingresos() y filtrar_ingresos_altos() para mejorar la eficiencia.\n",
    "-  Describe cómo podrías usar expresiones generadoras o comprensión de listas para optimizar estos procesos.\n",
    "3.  **Implementación de Pruebas para las Funciones**\n",
    "-   Crea una serie de pruebas para validar que las funciones calcular_total_ingresos(), filtrar_ingresos_altos(), y agrupar_por_categoria() funcionan correctamente con diferentes conjuntos de datos.\n",
    "-   Implementa una estructura de prueba que incluya datos de prueba representativos y explica cómo verificar los resultados.\n",
    "4.  **Aplicación de Estructuras de Datos Avanzadas**\n",
    "-  Investiga cómo podría utilizarse un conjunto (set) en el código para optimizar la verificación de categorías únicas en el sistema financiero.\n",
    "-  Describe los beneficios de utilizar conjuntos en Python para tareas de deduplicación y acceso rápido en comparación con listas.\n",
    "5.  Refactorización del Código**\n",
    "-  Utilizando el análisis previo, refactoriza el código base para incorporar las mejoras propuestas. Implementa comprensión de listas y optimiza el uso de estructuras de datos para que el sistema sea más eficiente.\n",
    "\n",
    "<br>\n",
    "\n",
    "### Código dado"
   ]
  },
  {
   "cell_type": "code",
   "execution_count": 1,
   "id": "863b4112-da1d-43e7-956b-09799077c64a",
   "metadata": {},
   "outputs": [],
   "source": [
    "import pandas as pd\n",
    "from collections import defaultdict"
   ]
  },
  {
   "cell_type": "code",
   "execution_count": 2,
   "id": "ebdd5070-ada1-4e8a-a6dd-51fa68412a14",
   "metadata": {},
   "outputs": [],
   "source": [
    "class AnalizadorFinanciero:\n",
    "    # Calcula el total de ingresos en una lista de transacciones\n",
    "    def calcular_total_ingresos(self, transacciones):\n",
    "        total = 0\n",
    "        for ingreso in transacciones:\n",
    "            total += ingreso\n",
    "        return total\n",
    "    # Filtra y retorna solo los ingresos mayores a un umbral dado\n",
    "    def filtrar_ingresos_altos(self, transacciones, umbral):\n",
    "        ingresos_altos = []\n",
    "        for ingreso in transacciones:\n",
    "            if ingreso > umbral:\n",
    "               ingresos_altos.append(ingreso)\n",
    "        return ingresos_altos\n",
    "    # Agrupa ingresos en un diccionario por categorías\n",
    "    def agrupar_por_categoria(self, transacciones, categorias):\n",
    "        agrupado = {}\n",
    "        for categoria, ingreso in zip(categorias, transacciones):\n",
    "            if categoria in agrupado:\n",
    "                agrupado[categoria].append(ingreso)\n",
    "            else:\n",
    "                agrupado[categoria] = [ingreso]\n",
    "        return agrupado"
   ]
  },
  {
   "cell_type": "code",
   "execution_count": 3,
   "id": "9e56f10e-4079-4a90-9c27-94ca9dc16e6c",
   "metadata": {},
   "outputs": [],
   "source": [
    "cat = [\"Salud\", \"Educación\", \"Salud\"]\n",
    "tran = [100, 200, 150]"
   ]
  },
  {
   "cell_type": "code",
   "execution_count": 4,
   "id": "c7876232-849f-4e91-8acf-2458eaa35435",
   "metadata": {},
   "outputs": [
    {
     "data": {
      "text/plain": [
       "{'Salud': [100, 150], 'Educación': [200]}"
      ]
     },
     "execution_count": 4,
     "metadata": {},
     "output_type": "execute_result"
    }
   ],
   "source": [
    "af = AnalizadorFinanciero()\n",
    "a = af.agrupar_por_categoria(tran,cat)\n",
    "a"
   ]
  },
  {
   "cell_type": "markdown",
   "id": "068f5771-8d54-4b5c-a5f5-cd60e2561c96",
   "metadata": {},
   "source": [
    "### Posibles mejoras"
   ]
  },
  {
   "cell_type": "code",
   "execution_count": 5,
   "id": "445b0a0f-f170-4c24-85dc-990c3fdde515",
   "metadata": {},
   "outputs": [],
   "source": [
    "class AnalizadorFinanciero:\n",
    "    # Optimización expresón generada + validación isintance()\n",
    "    def calcular_total_ingresos(self, transacciones):\n",
    "        return sum(ingreso for ingreso in transacciones if isinstance(ingreso, (int, float)))\n",
    "    # Optimización compresión de lista + validación isintance()\n",
    "    def filtrar_ingresos_altos(self, transacciones, umbral):\n",
    "        return [ingreso for ingreso in transacciones if isinstance(ingreso, (int, float)) and ingreso > umbral]\n",
    "    def agrupar_por_categoria(self, transacciones, categorias):\n",
    "        agrupado = {}\n",
    "        for categoria, ingreso in zip(categorias, transacciones):\n",
    "            if categoria in agrupado:\n",
    "                agrupado[categoria].append(ingreso)\n",
    "            else:\n",
    "                agrupado[categoria] = [ingreso]\n",
    "        return agrupado"
   ]
  },
  {
   "cell_type": "code",
   "execution_count": 6,
   "id": "3276cca5-9b9f-427a-9c54-deaf7721a1e6",
   "metadata": {},
   "outputs": [
    {
     "name": "stdout",
     "output_type": "stream",
     "text": [
      "El Valor Total de los ingresos es: $1100\n",
      "Los Ingresos Altos (mayores a 200 dolares) son: [350, 300]\n",
      "Los Ingresos agrupados por categoría son: {'Salud': [100, 150, 300], 'Educación': [200], 'Vivienda': [350]}\n"
     ]
    }
   ],
   "source": [
    "# Instancia de la clase AnalizadorFinanciero\n",
    "af = AnalizadorFinanciero()\n",
    "# Lista con las etiquetas de las transacciones\n",
    "cat = [\"Salud\", \"Educación\", \"Salud\", \"Vivienda\", \"Salud\"]\n",
    "# lista con las Transacciones\n",
    "tran = [100, 200, 150, 350, 300]\n",
    "# Calcular Total de Ingresos por medio del método calcular_total_ingresos de la clase AnalizadorFinanciero\n",
    "tot_ing = af.calcular_total_ingresos(tran)\n",
    "print(f\"El Valor Total de los ingresos es: ${tot_ing}\")\n",
    "\"\"\"\n",
    "Obtener Altos Ingresos (mayores a $200 dolares) por medio del método \n",
    "filtrar_ingresos_altos de la clase AnalizadorFinanciero\n",
    "\"\"\"\n",
    "ing_alt = af.filtrar_ingresos_altos(tran, 200)\n",
    "print(f\"Los Ingresos Altos (mayores a 200 dolares) son: {ing_alt}\")\n",
    "\"\"\"\n",
    "Obtener los Ingresos agrupados por Categorías mediante el método agrupar_por_categoria\n",
    "de la clase AnalizadorFinanciero\n",
    "\"\"\"\n",
    "ing_group = af.agrupar_por_categoria(tran, cat)\n",
    "print(f\"Los Ingresos agrupados por categoría son: {ing_group}\")"
   ]
  },
  {
   "cell_type": "markdown",
   "id": "2890ae8d-cff1-407a-af79-779ad1302eaa",
   "metadata": {},
   "source": [
    "### Verificación de Categorías duplicadas"
   ]
  },
  {
   "cell_type": "code",
   "execution_count": 7,
   "id": "5422940a-f934-4597-9271-944b6e696ee3",
   "metadata": {},
   "outputs": [
    {
     "data": {
      "text/plain": [
       "{'Educación', 'Salud', 'Vivienda'}"
      ]
     },
     "execution_count": 7,
     "metadata": {},
     "output_type": "execute_result"
    }
   ],
   "source": [
    "cat = [\"Salud\", \"Educación\", \"Salud\", \"Vivienda\", \"Salud\"]\n",
    "cat_unique = set(cat)\n",
    "cat_unique"
   ]
  },
  {
   "cell_type": "markdown",
   "id": "fe020638-5b1e-4f77-b47b-452200d94c45",
   "metadata": {},
   "source": [
    "### Refactorización el código"
   ]
  },
  {
   "cell_type": "code",
   "execution_count": 8,
   "id": "5525969d-3998-4af0-9ba4-eb26c833ace0",
   "metadata": {},
   "outputs": [],
   "source": [
    "class AnalizadorFinanciero:\n",
    "    # Optimización con expresión generadora + validación de tipo\n",
    "    def calcular_total_ingresos(self, transacciones):\n",
    "        return sum(\n",
    "            ingreso for ingreso in transacciones\n",
    "            if isinstance(ingreso, (int, float))\n",
    "        )\n",
    "\n",
    "    # Optimización con comprensión de lista + validación de tipo\n",
    "    def filtrar_ingresos_altos(self, transacciones, umbral):\n",
    "        return [\n",
    "            ingreso for ingreso in transacciones\n",
    "            if isinstance(ingreso, (int, float)) and ingreso > umbral\n",
    "        ]\n",
    "\n",
    "    # Agrupación eficiente usando zip + defaultdict\n",
    "    def agrupar_por_categoria(self, transacciones, categorias):\n",
    "        agrupado = defaultdict(list)\n",
    "        for categoria, ingreso in zip(categorias, transacciones):\n",
    "            agrupado[categoria].append(ingreso)\n",
    "        return dict(agrupado)\n",
    "\n",
    "    # Obtener categorías únicas usando set\n",
    "    def obtener_categorias_unicas(self, categorias):\n",
    "        return set(categorias)"
   ]
  },
  {
   "cell_type": "code",
   "execution_count": 9,
   "id": "c6e0daf3-c31b-4fe2-ab1a-b4c22fd384a1",
   "metadata": {},
   "outputs": [
    {
     "data": {
      "text/plain": [
       "{'Salud': [100, 150, 300], 'Educación': [200], 'Vivienda': [350]}"
      ]
     },
     "execution_count": 9,
     "metadata": {},
     "output_type": "execute_result"
    }
   ],
   "source": [
    "af = AnalizadorFinanciero()\n",
    "cat = [\"Salud\", \"Educación\", \"Salud\", \"Vivienda\", \"Salud\"]\n",
    "tran = [100, 200, 150, 350, 300]\n",
    "ing_group = af.agrupar_por_categoria(tran, cat)\n",
    "ing_group"
   ]
  },
  {
   "cell_type": "markdown",
   "id": "2a31cd24-31e3-4302-8a13-3eb517c4b073",
   "metadata": {},
   "source": [
    "<br>\n",
    "\n",
    "**Observación:**\n",
    "\n",
    "Se adjunta en el Moodle del Bootcamp el documento *reporte_analisis_de_caso* que contiene el resultado y la explicación del análisis solicitado para su posterior evaluación. "
   ]
  },
  {
   "cell_type": "code",
   "execution_count": null,
   "id": "558b1ac9-f10a-48a5-9c01-add61abc5ad0",
   "metadata": {},
   "outputs": [],
   "source": []
  }
 ],
 "metadata": {
  "kernelspec": {
   "display_name": "Python 3 (ipykernel)",
   "language": "python",
   "name": "python3"
  },
  "language_info": {
   "codemirror_mode": {
    "name": "ipython",
    "version": 3
   },
   "file_extension": ".py",
   "mimetype": "text/x-python",
   "name": "python",
   "nbconvert_exporter": "python",
   "pygments_lexer": "ipython3",
   "version": "3.13.3"
  }
 },
 "nbformat": 4,
 "nbformat_minor": 5
}
