{
 "cells": [
  {
   "cell_type": "markdown",
   "id": "cb9cce96-2ba8-4ebb-9d1c-97aaaece1f6c",
   "metadata": {},
   "source": [
    "Módulo 02 Lección 4 - 03 Ejercicios de aplicacion\n",
    "# Estructuras de dato en Python y sentencias iterativas\n",
    "\n",
    "**Instrucciones:**\n",
    "\n",
    "Implementar un sistema de gestión de inventario utilizando estructuras de datos en Python. El desafío incluye:\n",
    "-  Crear un diccionario que represente un inventario de productos, donde cada clave sea el nombre del producto y su valor un diccionario con detalles como cantidad, precio, y categoria.\n",
    "-  Escribir funciones que permitan:\n",
    "   -  Agregar productos al inventario.\n",
    "   -  Eliminar productos del inventario.\n",
    "   -  Actualizar la cantidad y precio de productos.\n",
    "   -  Listar los productos disponibles en una categoría específica.\n",
    "   -  Calcular el valor total del inventario sumando el valor de todos los productos (cantidad * precio).\n",
    "\n",
    "**Paso a paso:**\n",
    "1. Crear el diccionario principal inventario.\n",
    "2. Desarrollar las funciones agregar_producto(), eliminar_producto(), actualizar_producto(), listar_por_categoria(), y calcular_valor_total().\n",
    "3. Probar cada función en diferentes escenarios, asegurándote de que manejan correctamente las operaciones de inventario.\n",
    "\n",
    "**Plus**➕\n",
    "\n",
    "Si quieres un desafío extra, implementa una función que permita exportar el inventario a un archivo CSV para facilitar el manejo externo de datos."
   ]
  },
  {
   "cell_type": "code",
   "execution_count": 5,
   "id": "23cf08f2-890f-4f37-b9f6-579936f21385",
   "metadata": {},
   "outputs": [],
   "source": [
    "import csv"
   ]
  },
  {
   "cell_type": "code",
   "execution_count": 6,
   "id": "cad9cf1d-ead8-4667-939e-6f8ae1a28808",
   "metadata": {},
   "outputs": [],
   "source": [
    "# Diccionario inicial de inventario\n",
    "inventario = {}\n",
    "# Función para agregar productos al inventario\n",
    "def agregar_producto(nombre, cantidad, precio, categoria):\n",
    "    inventario[nombre] = {'cantidad': cantidad, 'precio':\n",
    "    precio, 'categoria': categoria}\n",
    "# Función para eliminar productos del inventario\n",
    "def eliminar_producto(nombre):\n",
    "    if nombre in inventario:\n",
    "        del inventario[nombre]\n",
    "    else:\n",
    "        print(\"El producto no existe en el inventario.\")\n",
    "# Función para actualizar cantidad y precio de productos\n",
    "def actualizar_producto(nombre, cantidad=None, precio=None):\n",
    "    if nombre in inventario:\n",
    "        if cantidad is not None:\n",
    "            inventario[nombre]['cantidad'] = cantidad\n",
    "        if precio is not None:\n",
    "            inventario[nombre]['precio'] = precio\n",
    "    else:\n",
    "        print(\"El producto no existe en el inventario.\")\n",
    "# Función para listar productos de una categoría específica\n",
    "def listar_por_categoria(categoria):\n",
    "    for nombre, detalles in inventario.items():\n",
    "        if detalles['categoria'] == categoria:\n",
    "           print(f\"Producto: {nombre}, Cantidad: {detalles['cantidad']}, Precio: {detalles['precio']}\")\n",
    "# Función para calcular el valor total del inventario\n",
    "def calcular_valor_total():\n",
    "    valor_total = sum(detalles['cantidad'] *\n",
    "    detalles['precio'] for detalles in inventario.values())\n",
    "    return valor_total\n",
    "# Función para exportar el inventario a un archivo CSV\n",
    "def exportar_inventario_csv(nombre_archivo):\n",
    "    with open(nombre_archivo, 'w', newline='', encoding='utf-8') as archivo_csv:\n",
    "        writer = csv.writer(archivo_csv)\n",
    "        writer.writerow(['Producto', 'Cantidad', 'Precio', 'Categoría'])\n",
    "        for nombre, detalles in inventario.items():\n",
    "            writer.writerow([nombre, detalles['cantidad'], detalles['precio'], detalles['categoria']])"
   ]
  },
  {
   "cell_type": "code",
   "execution_count": 7,
   "id": "ccae5630-6274-479a-87dd-8d2ae0b40ca5",
   "metadata": {},
   "outputs": [],
   "source": [
    "# Ejemplo de uso de las funciones\n",
    "agregar_producto(\"Laptop\", 10, 700, \"Electrónica\")\n",
    "agregar_producto(\"Manzana\", 50, 0.5, \"Alimentos\")"
   ]
  },
  {
   "cell_type": "code",
   "execution_count": 8,
   "id": "a3144fb2-5f5c-41ec-bdd8-e870789eb5c2",
   "metadata": {},
   "outputs": [
    {
     "name": "stdout",
     "output_type": "stream",
     "text": [
      "Producto: Laptop, Cantidad: 10, Precio: 700\n",
      "Valor total del inventario: 7025.0\n"
     ]
    }
   ],
   "source": [
    "listar_por_categoria(\"Electrónica\")\n",
    "print(\"Valor total del inventario:\", calcular_valor_total())\n",
    "exportar_inventario_csv(\"inventario.csv\")"
   ]
  },
  {
   "cell_type": "markdown",
   "id": "6adb6b41-634a-4903-8284-6e71c8ce9a07",
   "metadata": {},
   "source": [
    "<br>\n",
    "\n",
    "**Explicación:**\n",
    "\n",
    "1. Agregar Productos: Usa agregar_producto() para añadir productos con\n",
    "detalles.\n",
    "2. Eliminar Productos: Usa eliminar_producto() para borrar un producto.\n",
    "3. Actualizar Productos: actualizar_producto() cambia cantidad y precio.\n",
    "4. Listar por Categoría: Filtra y muestra productos de una categoría.\n",
    "5. Valor Total: calcular_valor_total() suma el valor de todo el inventario.\n",
    "6. Exportar a CSV: exportar_inventario_csv() guarda el inventario en un\n",
    "archivo CSV."
   ]
  },
  {
   "cell_type": "code",
   "execution_count": null,
   "id": "398f5339-bcb8-4dd9-8b54-ff70bf1ca438",
   "metadata": {},
   "outputs": [],
   "source": []
  }
 ],
 "metadata": {
  "kernelspec": {
   "display_name": "Python 3 (ipykernel)",
   "language": "python",
   "name": "python3"
  },
  "language_info": {
   "codemirror_mode": {
    "name": "ipython",
    "version": 3
   },
   "file_extension": ".py",
   "mimetype": "text/x-python",
   "name": "python",
   "nbconvert_exporter": "python",
   "pygments_lexer": "ipython3",
   "version": "3.13.3"
  }
 },
 "nbformat": 4,
 "nbformat_minor": 5
}
