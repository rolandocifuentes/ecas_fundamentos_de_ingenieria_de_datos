{
 "cells": [
  {
   "cell_type": "markdown",
   "id": "b5197cc4-8631-45b0-810e-45b28ec3e9a6",
   "metadata": {},
   "source": [
    "Módulo 02 Lección 02 - 03 Ejercicios de aplicacion\n",
    "# Sentencias Básicas del lenguaje Python\n",
    "**Instrucciones:**\n",
    "\n",
    "Escribir un programa en Python que permita realizar las siguientes acciones:\n",
    "-  Solicitar al usuario que ingrese su nombre y edad.\n",
    "-  Determinar si corresponde a un menor de edad, adulto o adulto mayor.\n",
    "-  Mostrar un mensaje de bienvenida personalizado con su categoría.\n",
    "-  Usar una estructura if / else para preguntar si desea ver un resumen general de las categorías.\n",
    "\n",
    "**Plus**➕\n",
    "-  Mostrar cuántas personas se ingresaron en cada categoría, acumulando resultados de varias ejecuciones."
   ]
  },
  {
   "cell_type": "code",
   "execution_count": 11,
   "id": "a4bc0f27-4aab-4829-890c-10c27a409133",
   "metadata": {},
   "outputs": [],
   "source": [
    "# función que solicita el nombre del usuario\n",
    "def solicitar_nombre():\n",
    "    while True:\n",
    "        nombre = input(\"Ingrese su nombre: \").strip()\n",
    "        if nombre:\n",
    "            return nombre\n",
    "        else:\n",
    "            print(\"El nombre no puede estar vacío. Inténtelo de nuevo.\")"
   ]
  },
  {
   "cell_type": "code",
   "execution_count": 12,
   "id": "0e02b4ef-3c8a-4118-b297-90c880b82ae3",
   "metadata": {},
   "outputs": [],
   "source": [
    "# función que solicita la edad del usuario\n",
    "def solicitar_edad():\n",
    "    while True:\n",
    "        try:\n",
    "            edad = int(input(\"Ingrese su edad: \"))\n",
    "            if edad >= 0:\n",
    "                return edad\n",
    "            else:\n",
    "                print(\"La edad no puede ser negativa.\")\n",
    "        except ValueError:\n",
    "            print(\"Por favor ingrese un número válido para la edad.\")"
   ]
  },
  {
   "cell_type": "code",
   "execution_count": 16,
   "id": "cb352fdc-f41f-4e61-b315-8d0138042097",
   "metadata": {},
   "outputs": [
    {
     "name": "stdin",
     "output_type": "stream",
     "text": [
      "Ingrese su nombre:  s\n",
      "Ingrese su edad:  2\n"
     ]
    },
    {
     "name": "stdout",
     "output_type": "stream",
     "text": [
      "\n",
      "¡Hola, s! Según tu edad, eres un menor de edad.\n"
     ]
    },
    {
     "name": "stdin",
     "output_type": "stream",
     "text": [
      "¿Deseás ver la clasificación de las categorías? (s/n):  s\n"
     ]
    },
    {
     "name": "stdout",
     "output_type": "stream",
     "text": [
      "\n",
      "-------------------------------\n",
      "Clasificación de las categorías\n",
      "-------------------------------\n",
      "Menor de edad: menos de 18 años\n",
      "Adulto: de 18 a 59 años\n",
      "Adulto mayor: 60 años o más\n"
     ]
    }
   ],
   "source": [
    "# Solicitud de datos\n",
    "nombre = solicitar_nombre()\n",
    "edad = solicitar_edad()\n",
    "\n",
    "# Clasificación por edad\n",
    "if edad < 18:\n",
    "    categoria = \"menor de edad\"\n",
    "elif edad < 60:\n",
    "    categoria = \"adulto\"\n",
    "else:\n",
    "    categoria = \"adulto mayor\"\n",
    "\n",
    "# Mostrar mensaje\n",
    "print(f\"\\n¡Hola, {nombre}! Según tu edad, eres un {categoria}.\")\n",
    "\n",
    "# Preguntar si desea ver el resumen\n",
    "ver_resumen = input(\"¿Deseás ver la clasificación de las categorías? (s/n): \").strip().lower()\n",
    "\n",
    "if ver_resumen == 's':\n",
    "    print(\"\\n-------------------------------\")\n",
    "    print(\"Clasificación de las categorías\")\n",
    "    print(\"-------------------------------\")\n",
    "    print(\"Menor de edad: menos de 18 años\")\n",
    "    print(\"Adulto: de 18 a 59 años\")\n",
    "    print(\"Adulto mayor: 60 años o más\")\n",
    "    print(\"-------------------------------\")\n",
    "else:\n",
    "    print(\"Resumen omitido. Gracias por participar.\")\n"
   ]
  },
  {
   "cell_type": "markdown",
   "id": "fcfd98c1-82f8-4e0a-a345-f61ceb16b513",
   "metadata": {},
   "source": [
    "<br>\n",
    "\n",
    "**Explicación:**  \n",
    "Primera celda función que solicita ingresar el nombre del usuario\n",
    "Segunda celda función que solicita ingresar la edad del usuario\n",
    "Tercera celda:\n",
    "-  Línea 2: invoca función solicitar_nombre()\n",
    "-  Línea 3: invoca función solicitar_edad()\n",
    "-  Lineas 6 a 11: bloque if / else condiciona si es mayor o menor de edad\n",
    "-  Línea 14: muestra por consola los datos ingresados\n",
    "-  Línea 17: pregunta si desea mostrar por consola la clasificación de las categorías\n",
    "-  Líneas 19 a 28: bloque if / else condiciona si muestra o no por pantalla"
   ]
  },
  {
   "cell_type": "code",
   "execution_count": null,
   "id": "c7c94526-2e40-4b0f-b658-392927deb27b",
   "metadata": {},
   "outputs": [],
   "source": []
  }
 ],
 "metadata": {
  "kernelspec": {
   "display_name": "Python 3 (ipykernel)",
   "language": "python",
   "name": "python3"
  },
  "language_info": {
   "codemirror_mode": {
    "name": "ipython",
    "version": 3
   },
   "file_extension": ".py",
   "mimetype": "text/x-python",
   "name": "python",
   "nbconvert_exporter": "python",
   "pygments_lexer": "ipython3",
   "version": "3.13.3"
  }
 },
 "nbformat": 4,
 "nbformat_minor": 5
}
