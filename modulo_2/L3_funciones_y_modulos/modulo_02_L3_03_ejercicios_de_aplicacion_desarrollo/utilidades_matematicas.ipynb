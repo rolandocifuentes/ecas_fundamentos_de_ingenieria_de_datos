{
 "cells": [
  {
   "cell_type": "markdown",
   "id": "d0f32f73-32a1-4fc0-b7dd-b0271039d7b6",
   "metadata": {},
   "source": [
    "Módulo 02 Lección 3 - 03 Ejercicios de aplicacion\n",
    "# Funciones y Módulos\n",
    "\n",
    "**Instrucciones:**  \n",
    "Crear un módulo de utilidades matemáticas en Python que contenga las siguientes funciones:\n",
    "-  Calcular el área de un círculo dado su radio.\n",
    "-  Calcular el área de un rectángulo dado su ancho y alto.\n",
    "-  Calcular el área de un triángulo dado su base y altura.\n",
    "-  Calcular el factorial de un número.\n",
    "-  Determinar si un número es primo.\n",
    "\n",
    "**Plus**➕  \n",
    "Agregar una función que permita calcular el área de un polígono regular dado su número\n",
    "de lados y la longitud de cada lado."
   ]
  },
  {
   "cell_type": "code",
   "execution_count": 1,
   "id": "9ecb3355-9907-4fb1-b228-279264e48039",
   "metadata": {},
   "outputs": [],
   "source": [
    "import math"
   ]
  },
  {
   "cell_type": "code",
   "execution_count": 7,
   "id": "d1af85a2-6bb9-4120-a35f-2aadc95e3e34",
   "metadata": {},
   "outputs": [],
   "source": [
    "# Función para calcular el área de un círculo\n",
    "def area_circulo(radio):\n",
    "    return math.pi * radio ** 2\n",
    "\n",
    "# Función para calcular el área de un rectángulo\n",
    "def area_rectangulo(ancho, alto):\n",
    "    return ancho * alto\n",
    "\n",
    "# Función para calcular el área de un triángulo\n",
    "def area_triangulo(base, altura):\n",
    "    return (base * altura) / 2\n",
    "    \n",
    "# Función para calcular el factorial de un número\n",
    "def factorial(numero):\n",
    "    if numero == 0 or numero == 1:\n",
    "        return 1\n",
    "    else:\n",
    "        resultado = 1\n",
    "        for i in range(2, numero + 1):\n",
    "            resultado *= i\n",
    "        return resultado\n",
    "\n",
    "# Función para determinar si un número es primo\n",
    "def es_primo(numero):\n",
    "    if numero < 2:\n",
    "        return False\n",
    "    for i in range(2, int(math.sqrt(numero)) + 1):\n",
    "        if numero % i == 0:\n",
    "            return False\n",
    "        return True\n",
    "        \n",
    "# Plus función que permita calcular el área de un polígono regular\n",
    "def area_poligono_regular(n_lados, longitud_lado):\n",
    "    perimetro = n_lados * longitud_lado\n",
    "    apotema = longitud_lado / (2 * math.tan(math.pi / n_lados))\n",
    "    return (perimetro * apotema) / 2"
   ]
  },
  {
   "cell_type": "code",
   "execution_count": 11,
   "id": "441d1da5-b41b-498a-b323-3bb388945cb8",
   "metadata": {},
   "outputs": [
    {
     "name": "stdout",
     "output_type": "stream",
     "text": [
      "Área del círculo (radio = 5): 78.53981633974483\n",
      "Área del rectángulo (ancho = 4, alto = 3): 12\n",
      "Área del triángulo (base = 6, altura = 2): 6.0\n",
      "Factorial de 5: 120\n",
      "¿Es 7 primo? True\n",
      "Área de un hexágono regular (6 lados, lado = 3): 23.382685902179844\n"
     ]
    }
   ],
   "source": [
    "# Obtiene resultados calculados\n",
    "print(\"Área del círculo (radio = 5):\", area_circulo(5))\n",
    "print(\"Área del rectángulo (ancho = 4, alto = 3):\", area_rectangulo(4, 3))\n",
    "print(\"Área del triángulo (base = 6, altura = 2):\", area_triangulo(6, 2))\n",
    "print(\"Factorial de 5:\", factorial(5))\n",
    "print(\"¿Es 7 primo?\", es_primo(7))\n",
    "print(\"Área de un hexágono regular (6 lados, lado = 3):\", area_poligono_regular(6, 3))"
   ]
  },
  {
   "cell_type": "markdown",
   "id": "e9b7c43f-f8d3-4ef2-8094-2afbc54dd7e6",
   "metadata": {},
   "source": [
    "<br>\n",
    "\n",
    "**Explicación de las Funciones**  \n",
    "1.  area_circulo(radio): Calcula el área de un círculo usando la fórmula **$$A =\\pi r^2$$**\n",
    "3.  area_rectangulo(ancho, alto): Calcula el área de un rectángulo usando la siguiente fórmula $$A = anchura \\times altura$$\n",
    "4.  area_triangulo(base, altura): Calcula el área de un triángulo usando la fórmula $$A = \\dfrac{\\text{base} \\times \\text{altura}}{2}$$\n",
    "5.  factorial(numero): Calcula el factorial de un número mediante un bucle for.\n",
    "Retorna 1 si el número es 0 o 1.\n",
    "6.  es_primo(numero): Determina si un número es primo iterando desde 2 hasta la\n",
    "raíz cuadrada del número. Retorna False si el número es divisible por cualquiera\n",
    "de estos valores, True si no lo es."
   ]
  }
 ],
 "metadata": {
  "kernelspec": {
   "display_name": "Python 3 (ipykernel)",
   "language": "python",
   "name": "python3"
  },
  "language_info": {
   "codemirror_mode": {
    "name": "ipython",
    "version": 3
   },
   "file_extension": ".py",
   "mimetype": "text/x-python",
   "name": "python",
   "nbconvert_exporter": "python",
   "pygments_lexer": "ipython3",
   "version": "3.13.3"
  }
 },
 "nbformat": 4,
 "nbformat_minor": 5
}
