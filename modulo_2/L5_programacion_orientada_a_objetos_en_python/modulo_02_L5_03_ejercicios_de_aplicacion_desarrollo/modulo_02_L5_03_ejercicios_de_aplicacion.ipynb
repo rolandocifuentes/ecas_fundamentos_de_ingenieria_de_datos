{
 "cells": [
  {
   "cell_type": "markdown",
   "id": "9c1f2d7d-3d03-4602-a69c-fa713c308c4e",
   "metadata": {},
   "source": [
    "Módulo 02 Lección 5 - 03 Ejercicios de aplicación\n",
    "\n",
    "# Programación Orientada a objetos en Python\n",
    "\n",
    "**Instrucciones:**\n",
    "\n",
    "Crear una clase Persona que incluya los atributos nombre, edad, y correo_electronico. Además, implementar métodos que permitan:\n",
    "-  Mostrar los datos de la persona en un formato amigable.\n",
    "-  Validar que el correo electrónico sea válido utilizando expresiones regulares.\n",
    "-  Actualizar los datos de la persona.\n",
    "-  Verificar si la persona es mayor de edad.\n",
    "\n",
    "**Plus**➕\n",
    "\n",
    "Agrega una función para comparar la edad de dos objetos Persona y devolver quién es\n",
    "mayor."
   ]
  },
  {
   "cell_type": "code",
   "execution_count": 2,
   "id": "1a94fc2d-ef95-4f3d-8f6c-ff9ee6c3ead1",
   "metadata": {},
   "outputs": [],
   "source": [
    "import re"
   ]
  },
  {
   "cell_type": "code",
   "execution_count": 3,
   "id": "ea5da860-7332-468b-a11c-501d7f9786ed",
   "metadata": {},
   "outputs": [],
   "source": [
    "class Persona:\n",
    "    def __init__(self, nombre, edad, correo_electronico):\n",
    "        self.nombre = nombre\n",
    "        self.edad = edad\n",
    "        self.correo_electronico = correo_electronico\n",
    "        \n",
    "    # Método para mostrar los datos de la persona\n",
    "    def mostrar_datos(self):\n",
    "        print(f\"Nombre: {self.nombre}, Edad: {self.edad}, Email: {self.correo_electronico}\")\n",
    "        \n",
    "    # Método para validar si el correo electrónico es válido\n",
    "    def validar_correo(self):\n",
    "        patron = r'^[\\w\\.-]+@[\\w\\.-]+\\.\\w+$'\n",
    "        return re.match(patron, self.correo_electronico) is not None\n",
    "        \n",
    "    # Método para actualizar los datos de la persona\n",
    "    def actualizar_datos(self, nombre=None, edad=None, correo_electronico=None):\n",
    "        if nombre:\n",
    "            self.nombre = nombre\n",
    "        if edad:\n",
    "            self.edad = edad\n",
    "        if correo_electronico:\n",
    "            self.correo_electronico = correo_electronico\n",
    "            \n",
    "    # Método para verificar si la persona es mayor de edad\n",
    "    def es_mayor_de_edad(self):\n",
    "        return self.edad >= 18\n",
    "        \n",
    "    # Método para comparar edades\n",
    "    def comparar_edad(self, otra_persona):\n",
    "        if self.edad > otra_persona.edad:\n",
    "            return f\"{self.nombre} es mayor que {otra_persona.nombre}\"\n",
    "        elif self.edad < otra_persona.edad:\n",
    "            return f\"{otra_persona.nombre} es mayor que {self.nombre}\"\n",
    "        else:\n",
    "            return f\"{self.nombre} y {otra_persona.nombre} tienen la misma edad\""
   ]
  },
  {
   "cell_type": "code",
   "execution_count": 6,
   "id": "0c9b4b92-8bfa-48ac-958a-f679ad82fb01",
   "metadata": {},
   "outputs": [
    {
     "name": "stdout",
     "output_type": "stream",
     "text": [
      "Nombre: Carlos, Edad: 25, Email: carlos@gmail.com\n",
      "Nombre: Ana, Edad: 30, Email: anaempresa.com\n"
     ]
    }
   ],
   "source": [
    "# Crear dos personas\n",
    "p1 = Persona(\"Carlos\", 25, \"carlos@gmail.com\")\n",
    "p2 = Persona(\"Ana\", 30, \"anaempresa.com\")\n",
    "\n",
    "# Mostrar datos\n",
    "p1.mostrar_datos()\n",
    "p2.mostrar_datos()"
   ]
  },
  {
   "cell_type": "code",
   "execution_count": 7,
   "id": "dcb2bc82-2e83-4773-ac9c-aee29cfe3d40",
   "metadata": {},
   "outputs": [
    {
     "name": "stdout",
     "output_type": "stream",
     "text": [
      "Correo de Carlos válido: True\n",
      "Correo de Ana válido: False\n",
      "Carlos es mayor de edad: True\n",
      "Ana es mayor de edad: True\n",
      "Ana es mayor que Carlos\n",
      "Nombre: Carlos, Edad: 35, Email: nuevo@correo.cl\n",
      "Nuevo correo válido: True\n"
     ]
    }
   ],
   "source": [
    "# Validar correos\n",
    "print(\"Correo de Carlos válido:\", p1.validar_correo())\n",
    "print(\"Correo de Ana válido:\", p2.validar_correo())\n",
    "\n",
    "# Verificar si son mayores de edad\n",
    "print(\"Carlos es mayor de edad:\", p1.es_mayor_de_edad())\n",
    "print(\"Ana es mayor de edad:\", p2.es_mayor_de_edad())\n",
    "\n",
    "# Comparar edades\n",
    "print(p1.comparar_edad(p2))\n",
    "\n",
    "# Actualizar datos de Carlos\n",
    "p1.actualizar_datos(edad=35, correo_electronico=\"nuevo@correo.cl\")\n",
    "p1.mostrar_datos()\n",
    "print(\"Nuevo correo válido:\", p1.validar_correo())"
   ]
  },
  {
   "cell_type": "markdown",
   "id": "34b651f2-03f6-4eed-b96e-b0abf2fa833f",
   "metadata": {},
   "source": [
    "<br>\n",
    "\n",
    "**Explicación:**\n",
    "1. Definir la clase Persona: La clase tiene un constructor que inicializa nombre, edad, y correo_electronico.\n",
    "2. Implementar mostrar_datos(): Este método muestra los datos de la persona de forma amigable en la consola.\n",
    "3. Crear validar_correo(): Verifica si el correo tiene un formato válido utilizando expresiones regulares.\n",
    "4. actualizar_datos(): Permite modificar el nombre, edad, o correo_electronico de la persona.\n",
    "5. es_mayor_de_edad(): Retorna True si la persona tiene 18 años o más, y False en caso contrario."
   ]
  },
  {
   "cell_type": "code",
   "execution_count": null,
   "id": "1ad55d96-ec8e-4068-93c4-a87bbba57b00",
   "metadata": {},
   "outputs": [],
   "source": []
  }
 ],
 "metadata": {
  "kernelspec": {
   "display_name": "Python 3 (ipykernel)",
   "language": "python",
   "name": "python3"
  },
  "language_info": {
   "codemirror_mode": {
    "name": "ipython",
    "version": 3
   },
   "file_extension": ".py",
   "mimetype": "text/x-python",
   "name": "python",
   "nbconvert_exporter": "python",
   "pygments_lexer": "ipython3",
   "version": "3.13.3"
  }
 },
 "nbformat": 4,
 "nbformat_minor": 5
}
