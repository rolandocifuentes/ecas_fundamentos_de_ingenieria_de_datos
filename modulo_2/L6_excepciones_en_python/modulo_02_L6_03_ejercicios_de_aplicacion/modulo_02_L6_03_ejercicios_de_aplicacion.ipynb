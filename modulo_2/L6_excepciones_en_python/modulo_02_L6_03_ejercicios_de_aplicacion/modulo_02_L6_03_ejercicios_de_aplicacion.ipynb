{
 "cells": [
  {
   "cell_type": "markdown",
   "id": "79fa3cac-ff52-48fc-a787-ef4358a31b47",
   "metadata": {},
   "source": [
    "Módulo 02 Lección 6 - 03 Ejercicios de aplicación\n",
    "# Excepciones en Python\n",
    "\n",
    "**Instrucciones:**\n",
    "\n",
    "Implementar un programa en Python que simule una calculadora básica con las siguientes características:\n",
    "- Solicitar al usuario dos números y la operación a realizar (+, -, *, /).\n",
    "- Realizar la operación indicada y mostrar el resultado.\n",
    "- Manejar y capturar excepciones para:\n",
    "  - División por cero.\n",
    "  - Entrada no válida (cuando el usuario introduce algo que no es un número).\n",
    "  - Operador no válido (si el usuario ingresa un operador diferente a +, -, *, /).\n",
    "\n",
    "**Plus**➕\n",
    "\n",
    "Agregar una opción que permita al usuario repetir la operación hasta que decida salir."
   ]
  },
  {
   "cell_type": "code",
   "execution_count": 1,
   "id": "f9f6aa24-2021-49ea-8260-a99a552848ee",
   "metadata": {},
   "outputs": [],
   "source": [
    "def calculadora():\n",
    "    while True:\n",
    "        try:\n",
    "            num1 = float(input(\"Ingresa el primer número: \"))\n",
    "            num2 = float(input(\"Ingresa el segundo número: \"))\n",
    "            operador = input(\"Ingresa la operación (+, -, *, /): \")\n",
    "\n",
    "            if operador == \"+\":\n",
    "                resultado = num1 + num2\n",
    "            elif operador == \"-\":\n",
    "                resultado = num1 - num2\n",
    "            elif operador == \"*\":\n",
    "                resultado = num1 * num2\n",
    "            elif operador == \"/\":\n",
    "                if num2 == 0:\n",
    "                    raise ZeroDivisionError(\"No se puede dividir por cero.\")\n",
    "                resultado = num1 / num2\n",
    "            else:\n",
    "                raise ValueError(\"Operador no válido. Usa +, -, * o /.\")\n",
    "\n",
    "            print(f\"El resultado de {num1} {operador} {num2} es: {resultado:.2f}\")\n",
    "\n",
    "        except ValueError as ve:\n",
    "            print(f\"Error de valor: {ve}\")\n",
    "        except ZeroDivisionError as zde:\n",
    "            print(f\"Error de división: {zde}\")\n",
    "        finally:\n",
    "            print(\"Operación finalizada.\")\n",
    "\n",
    "        continuar = input(\"¿Deseas realizar otra operación? (s/n): \").lower()\n",
    "        if continuar != 's':\n",
    "            print(\"Gracias por usar la calculadora.\")\n",
    "            break"
   ]
  },
  {
   "cell_type": "code",
   "execution_count": 4,
   "id": "d7e47f1e-9b7a-4166-abc9-7fc5b7bdf042",
   "metadata": {},
   "outputs": [
    {
     "name": "stdin",
     "output_type": "stream",
     "text": [
      "Ingresa el primer número:  12\n",
      "Ingresa el segundo número:  12\n",
      "Ingresa la operación (+, -, *, /):  -\n"
     ]
    },
    {
     "name": "stdout",
     "output_type": "stream",
     "text": [
      "El resultado de 12.0 - 12.0 es: 0.00\n",
      "Operación finalizada.\n"
     ]
    },
    {
     "name": "stdin",
     "output_type": "stream",
     "text": [
      "¿Deseas realizar otra operación? (s/n):  s\n",
      "Ingresa el primer número:  5\n",
      "Ingresa el segundo número:  2\n",
      "Ingresa la operación (+, -, *, /):  *\n"
     ]
    },
    {
     "name": "stdout",
     "output_type": "stream",
     "text": [
      "El resultado de 5.0 * 2.0 es: 10.00\n",
      "Operación finalizada.\n"
     ]
    },
    {
     "name": "stdin",
     "output_type": "stream",
     "text": [
      "¿Deseas realizar otra operación? (s/n):  S\n",
      "Ingresa el primer número:  5\n",
      "Ingresa el segundo número:  10\n",
      "Ingresa la operación (+, -, *, /):  /\n"
     ]
    },
    {
     "name": "stdout",
     "output_type": "stream",
     "text": [
      "El resultado de 5.0 / 10.0 es: 0.50\n",
      "Operación finalizada.\n"
     ]
    },
    {
     "name": "stdin",
     "output_type": "stream",
     "text": [
      "¿Deseas realizar otra operación? (s/n):  s\n",
      "Ingresa el primer número:  1\n",
      "Ingresa el segundo número:  0\n",
      "Ingresa la operación (+, -, *, /):  /\n"
     ]
    },
    {
     "name": "stdout",
     "output_type": "stream",
     "text": [
      "Error de división: No se puede dividir por cero.\n",
      "Operación finalizada.\n"
     ]
    },
    {
     "name": "stdin",
     "output_type": "stream",
     "text": [
      "¿Deseas realizar otra operación? (s/n):  n\n"
     ]
    },
    {
     "name": "stdout",
     "output_type": "stream",
     "text": [
      "Gracias por usar la calculadora.\n"
     ]
    }
   ],
   "source": [
    "# Ejecutar\n",
    "calculadora()"
   ]
  },
  {
   "cell_type": "markdown",
   "id": "0ed927cc-49d0-4413-a537-87acf9248b17",
   "metadata": {},
   "source": [
    "<br>\n",
    "\n",
    "**Explicación:**\n",
    "\n",
    "1. Función calculadora(): Esta función encapsula todo el flujo de la calculadora y maneja las posibles excepciones.\n",
    "2. Solicitar Números y Operador:\n",
    "    - Usa float(input()) para obtener números, convirtiendo los valores de entrada.\n",
    "    - Captura el operador en una cadena de texto.\n",
    "3. Condiciones para Operaciones:\n",
    "    - Realiza la operación según el operador (+, -, *, /).\n",
    "    - Si el operador no es válido, se lanza una excepción ValueError.\n",
    "4. Manejo de Excepciones:\n",
    "    - ZeroDivisionError: Captura y maneja la división por cero.\n",
    "    - ValueError: Captura entradas no numéricas o un operador inválido.\n",
    "5. Bloque finally: Ejecuta siempre al final, informando que la operación ha terminado."
   ]
  },
  {
   "cell_type": "code",
   "execution_count": null,
   "id": "f8f2d6de-4f55-48b9-bc69-9369fd8a78a3",
   "metadata": {},
   "outputs": [],
   "source": []
  }
 ],
 "metadata": {
  "kernelspec": {
   "display_name": "Python 3 (ipykernel)",
   "language": "python",
   "name": "python3"
  },
  "language_info": {
   "codemirror_mode": {
    "name": "ipython",
    "version": 3
   },
   "file_extension": ".py",
   "mimetype": "text/x-python",
   "name": "python",
   "nbconvert_exporter": "python",
   "pygments_lexer": "ipython3",
   "version": "3.13.3"
  }
 },
 "nbformat": 4,
 "nbformat_minor": 5
}
