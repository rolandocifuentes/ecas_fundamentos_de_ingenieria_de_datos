{
 "cells": [
  {
   "cell_type": "markdown",
   "id": "69a414f8-f378-4cf1-8097-6592813c8755",
   "metadata": {},
   "source": [
    "Módulo 03 Lección 1 - 03 Análisis de caso\n",
    "# La librería NumPy\n",
    "**Situación inicial** 📍\n",
    "<br>\n",
    "Una empresa de análisis financiero está desarrollando una herramienta para el procesamiento de grandes volúmenes de datos sobre el rendimiento de sus activos en la bolsa. Actualmente, su equipo trabaja con datos en formatos dispersos y estructuras poco optimizadas, lo que ralentiza los cálculos y dificulta la obtención de métricas en tiempo real.\n",
    "El equipo ha decidido implementar NumPy para optimizar la carga, manipulación y análisis de datos, permitiendo realizar operaciones matemáticas y estadísticas de manera eficiente. Sin embargo, necesitan definir una estrategia clara para estructurar los datos, realizar cálculos rápidos y extraer información clave de forma ágil. Tu misión será analizar esta situación y aplicar los conceptos aprendidos de NumPy para mejorar los procesos de manipulación y análisis de datos.<br><br>\n",
    "**Descripción del Caso** 🔎\n",
    "<br>\n",
    "En este caso, asumirás el rol de un analista de datos dentro del equipo de desarrollo de la empresa. Tu objetivo será optimizar la manipulación de datos utilizando NumPy, mejorando la eficiencia de los cálculos financieros y facilitando la toma de decisiones basada en métricas clave.\n",
    "Deberás trabajar con matrices y arreglos en NumPy para realizar operaciones como:\n",
    "- Creación y manipulación de arrays multidimensionales.\n",
    "- Aplicación de funciones estadísticas y matemáticas sobre los datos.\n",
    "- Indexación y selección eficiente de elementos dentro de los arrays.\n",
    "- Optimización del rendimiento computacional mediante el uso de broadcasting y operaciones vectorizadas.\n",
    "A lo largo del análisis, deberás presentar soluciones concretas que permitan mejorar el procesamiento de los datos y justificar por qué NumPy es la herramienta adecuada para esta tarea.\n",
    "**Instrucciones** 💡\n",
    "1. Carga y estructuración de datos:\n",
    "    - Crea un array NumPy con datos financieros simulados (por ejemplo,precios de acciones en diferentes días).\n",
    "    - Organiza los datos en una matriz de 5x5, donde cada fila representa una acción y cada columna un día de cotización.\n",
    "2. Análisis y transformación de datos:\n",
    "    - Obtén el promedio, valor máximo y mínimo de cada acción a lo largo del tiempo.\n",
    "    - Calcula la variación porcentual diaria de cada acción.\n",
    "    - Aplica funciones matemáticas como logaritmo, exponencial o normalización sobre los datos.\n",
    "3. Optimización y selección de datos:\n",
    "    - Utiliza indexación avanzada para extraer información específica, como el rendimiento de una acción en un día determinado.\n",
    "    - Aplica broadcasting para realizar operaciones sin necesidad de bucles.\n",
    "4. Comparación con otros métodos:\n",
    "    - Analiza cómo se podrían realizar estas tareas sin NumPy y compara la eficiencia en términos de código y rendimiento computacional.<br>\n",
    "\n",
    "**Entregables** 📬\n",
    "<br>\n",
    "\n",
    "Los participantes deberán entregar un informe con:\n",
    "1. Código fuente en Python con la implementación de las tareas.\n",
    "2. Explicación detallada de cada paso realizado y su justificación técnica.\n",
    "3. Análisis comparativo entre el uso de NumPy y otros métodos tradicionales de manipulación de datos.\n",
    "4. Conclusiones sobre la eficiencia de NumPy en la manipulación y análisis de datos numéricos."
   ]
  },
  {
   "cell_type": "markdown",
   "id": "0af85592-39fd-4bf1-8cf8-5a6630917ecd",
   "metadata": {},
   "source": [
    "### Carga y estructuración de datos"
   ]
  },
  {
   "cell_type": "code",
   "execution_count": 1,
   "id": "7b7ef251-0a14-4edb-a52b-920ca5b0b2a6",
   "metadata": {},
   "outputs": [],
   "source": [
    "import numpy as np\n",
    "import pandas as pd"
   ]
  },
  {
   "cell_type": "code",
   "execution_count": 2,
   "id": "06677e1b-d34c-413e-ac4c-1621156f3527",
   "metadata": {},
   "outputs": [
    {
     "data": {
      "text/plain": [
       "array([[ 855711,  985829,  667952,  702315, 1432371],\n",
       "       [ 909783,  854137,  672579, 1160581,  998242],\n",
       "       [ 924564, 1285831, 1286326,  860744,  720584],\n",
       "       [1389052, 1154474, 1091377, 1499734, 1224343],\n",
       "       [ 920775, 1295048, 1437633,  805653, 1156745]], dtype=int32)"
      ]
     },
     "execution_count": 2,
     "metadata": {},
     "output_type": "execute_result"
    }
   ],
   "source": [
    "np.random.seed(0)  # Para resultados reproducibles\n",
    "precios = np.random.randint(550000, 1500001, size=(5, 5))\n",
    "precios"
   ]
  },
  {
   "cell_type": "markdown",
   "id": "817d5c2b-a591-4fd9-bed0-088dbd03df2d",
   "metadata": {},
   "source": [
    "### Análisis y transformación de datos\n",
    "\n",
    "**Cálculos promedio, valores máximos y mínimos, variación porcentua, logaritmo natural y normalización Min-Max con funciones de la librería**"
   ]
  },
  {
   "cell_type": "code",
   "execution_count": 3,
   "id": "2ca19b42-0d66-4669-8b66-9d3d21082336",
   "metadata": {},
   "outputs": [
    {
     "name": "stdout",
     "output_type": "stream",
     "text": [
      "Los promedios de las acciones por días son: [ 928835.6  919064.4 1015609.8 1271796.  1123170.8]\n",
      "Los máximos por días son: [1432371 1160581 1286326 1499734 1437633]\n",
      "Los mínimos por días son: [ 667952  672579  720584 1091377  805653]\n"
     ]
    }
   ],
   "source": [
    "print(f\"Los promedios de las acciones por días son: {np.mean(precios, axis=1)}\")\n",
    "print(f\"Los máximos por días son: {np.max(precios, axis=1)}\")\n",
    "print(f\"Los mínimos por días son: {np.min(precios, axis=1)}\")"
   ]
  },
  {
   "cell_type": "markdown",
   "id": "753bcb8f-37a9-4bde-9124-a34cb6072ad1",
   "metadata": {},
   "source": [
    "<br>\n",
    "\n",
    "**Variación porcentual diaria de cada acción**"
   ]
  },
  {
   "cell_type": "code",
   "execution_count": 4,
   "id": "6629b52b-9ea4-45b5-9085-4f4c2ecb0ef9",
   "metadata": {},
   "outputs": [
    {
     "name": "stdout",
     "output_type": "stream",
     "text": [
      "Las variaciones porcentuales son: \n",
      "[[ 1.52058347e+01 -3.22446388e+01  5.14453134e+00  1.03949937e+02]\n",
      " [-6.11640358e+00 -2.12563090e+01  7.25568298e+01 -1.39877355e+01]\n",
      " [ 3.90743096e+01  3.84965054e-02 -3.30850811e+01 -1.62835872e+01]\n",
      " [-1.68876327e+01 -5.46543274e+00  3.74166764e+01 -1.83626563e+01]\n",
      " [ 4.06476066e+01  1.10100166e+01 -4.39597589e+01  4.35785630e+01]]\n"
     ]
    }
   ],
   "source": [
    "# muestra en notación ciéntifica\n",
    "variacion = (precios[:, 1:] - precios[:, :-1]) / precios[:, :-1] * 100\n",
    "print(f\"Las variaciones porcentuales son: \\n{variacion}\")"
   ]
  },
  {
   "cell_type": "code",
   "execution_count": 5,
   "id": "0cace0af-f1e6-4a59-ba8d-db46c5da31a5",
   "metadata": {},
   "outputs": [
    {
     "name": "stdout",
     "output_type": "stream",
     "text": [
      "Las variaciones porcentuales son: \n",
      "[[ 15.2 -32.2   5.1 103.9]\n",
      " [ -6.1 -21.3  72.6 -14. ]\n",
      " [ 39.1   0.  -33.1 -16.3]\n",
      " [-16.9  -5.5  37.4 -18.4]\n",
      " [ 40.6  11.  -44.   43.6]]\n"
     ]
    }
   ],
   "source": [
    "# muestra en notación decimal\n",
    "variacion_redondeada = np.round(variacion, 1)\n",
    "print(f\"Las variaciones porcentuales son: \\n{variacion_redondeada}\")"
   ]
  },
  {
   "cell_type": "markdown",
   "id": "855a60e8-1321-4c20-98c1-f8e29c682f5c",
   "metadata": {},
   "source": [
    "<br>\n",
    "\n",
    "**Logaritmo natural**"
   ]
  },
  {
   "cell_type": "code",
   "execution_count": 6,
   "id": "8552b8c5-7c1a-4fe5-91c7-ade729411a27",
   "metadata": {},
   "outputs": [
    {
     "name": "stdout",
     "output_type": "stream",
     "text": [
      "Los logaritmos naturales son: \n",
      "[[13.65968798 13.80123819 13.41197159 13.4621373  14.17484167]\n",
      " [13.72096139 13.65784688 13.41887486 13.9644313  13.81375101]\n",
      " [13.73707755 14.06691576 14.06730065 13.66555241 13.48781727]\n",
      " [14.14413206 13.95915539 13.90295076 14.22079832 14.01791493]\n",
      " [13.73297099 14.07405832 14.17850857 13.59940841 13.96112058]]\n"
     ]
    }
   ],
   "source": [
    "print(f\"Los logaritmos naturales son: \\n{np.log(precios)}\")"
   ]
  },
  {
   "cell_type": "markdown",
   "id": "083654b3-ab67-4b0d-b5a5-e543bac5130e",
   "metadata": {},
   "source": [
    "<br>\n",
    "\n",
    "**Función exponencial**"
   ]
  },
  {
   "cell_type": "code",
   "execution_count": 7,
   "id": "b57a5c2a-705a-40d7-8cb2-81a59c5a9887",
   "metadata": {},
   "outputs": [
    {
     "name": "stdout",
     "output_type": "stream",
     "text": [
      "Las funciones exponenciales son: \n",
      "[[2.3530468  2.68003271 1.95023914 2.01841995 4.18861864]\n",
      " [2.48378349 2.34934602 1.9592838  3.19178717 2.71350729]\n",
      " [2.52076897 3.61767299 3.61946419 2.36491954 2.05563335]\n",
      " [4.01104578 3.17235432 2.97837247 4.4804971  3.40193028]\n",
      " [2.51123584 3.65117123 4.21071724 2.23815754 3.17956692]]\n"
     ]
    }
   ],
   "source": [
    "print(f\"Las funciones exponenciales son: \\n{np.exp(precios / 1e6)}\")"
   ]
  },
  {
   "cell_type": "markdown",
   "id": "dbeace27-ef0c-4e54-b6b7-7582e7a55d36",
   "metadata": {},
   "source": [
    "<br>\n",
    "\n",
    "**Normalización Min-Max**"
   ]
  },
  {
   "cell_type": "code",
   "execution_count": 8,
   "id": "be094b17-cc26-41d5-b08e-de058215e0f2",
   "metadata": {},
   "outputs": [
    {
     "name": "stdout",
     "output_type": "stream",
     "text": [
      "Los precios normalizados son: \n",
      "[[0.22573102 0.38216384 0.         0.04131251 0.91901364]\n",
      " [0.29073844 0.2238387  0.00556276 0.59225735 0.39708722]\n",
      " [0.30850872 0.74283767 0.74343277 0.23178189 0.06327619]\n",
      " [0.86693388 0.58491528 0.50905766 1.         0.66891445]\n",
      " [0.30395344 0.7539187  0.92533981 0.16554939 0.58764556]]\n"
     ]
    }
   ],
   "source": [
    "norm_precios = (precios - precios.min()) / (precios.max() - precios.min())\n",
    "print(f\"Los precios normalizados son: \\n{norm_precios}\")"
   ]
  },
  {
   "cell_type": "markdown",
   "id": "f0983487-b1a0-4425-9bd6-fceb4d943518",
   "metadata": {},
   "source": [
    "### Optimización y selección de datos\n",
    "**indexación avanzada**"
   ]
  },
  {
   "cell_type": "code",
   "execution_count": 9,
   "id": "91a04b3a-7d93-4265-a4a6-24a4924d3e15",
   "metadata": {},
   "outputs": [
    {
     "name": "stdout",
     "output_type": "stream",
     "text": [
      "El precio de la acción 2 del día 2 es: $672.579\n",
      "\n",
      "Precio de acciones:\n"
     ]
    },
    {
     "data": {
      "text/html": [
       "<div>\n",
       "<style scoped>\n",
       "    .dataframe tbody tr th:only-of-type {\n",
       "        vertical-align: middle;\n",
       "    }\n",
       "\n",
       "    .dataframe tbody tr th {\n",
       "        vertical-align: top;\n",
       "    }\n",
       "\n",
       "    .dataframe thead th {\n",
       "        text-align: right;\n",
       "    }\n",
       "</style>\n",
       "<table border=\"1\" class=\"dataframe\">\n",
       "  <thead>\n",
       "    <tr style=\"text-align: right;\">\n",
       "      <th></th>\n",
       "      <th>Nro. Acción</th>\n",
       "      <th>Día 2</th>\n",
       "      <th>Día 4</th>\n",
       "    </tr>\n",
       "  </thead>\n",
       "  <tbody>\n",
       "    <tr>\n",
       "      <th>0</th>\n",
       "      <td>1</td>\n",
       "      <td>$985.829</td>\n",
       "      <td>$702.315</td>\n",
       "    </tr>\n",
       "    <tr>\n",
       "      <th>1</th>\n",
       "      <td>3</td>\n",
       "      <td>$1.285.831</td>\n",
       "      <td>$860.744</td>\n",
       "    </tr>\n",
       "  </tbody>\n",
       "</table>\n",
       "</div>"
      ],
      "text/plain": [
       "   Nro. Acción       Día 2     Día 4\n",
       "0            1    $985.829  $702.315\n",
       "1            3  $1.285.831  $860.744"
      ]
     },
     "execution_count": 9,
     "metadata": {},
     "output_type": "execute_result"
    }
   ],
   "source": [
    "print(f\"El precio de la acción 2 del día 2 es: ${precios[1, 2]:,}\".replace(\",\", \".\"))\n",
    "\n",
    "subset = precios[[0, 2]][:, [1, 3]]\n",
    "df_subset = pd.DataFrame(\n",
    "    {\n",
    "        \"Nro. Acción\": [1, 3],\n",
    "        \"Día 2\": subset[:, 0],\n",
    "        \"Día 4\": subset[:, 1]\n",
    "    }\n",
    ")\n",
    "\n",
    "# Formato con separador de miles\n",
    "df_formateado = df_subset.copy()\n",
    "df_formateado[\"Día 2\"] = df_formateado[\"Día 2\"].apply(lambda x: f\"${x:,}\".replace(\",\", \".\"))\n",
    "df_formateado[\"Día 4\"] = df_formateado[\"Día 4\"].apply(lambda x: f\"${x:,}\".replace(\",\", \".\"))\n",
    "\n",
    "print(\"\\nPrecio de acciones:\")\n",
    "df_formateado\n"
   ]
  },
  {
   "cell_type": "markdown",
   "id": "b1783daa-827b-422c-91dc-8ca10cd1199c",
   "metadata": {},
   "source": [
    "**Broadcasting**"
   ]
  },
  {
   "cell_type": "code",
   "execution_count": 10,
   "id": "c56f0270-c0c9-4dfa-8381-ab91ed1a32bb",
   "metadata": {},
   "outputs": [
    {
     "data": {
      "text/plain": [
       "array([[ 898497, 1035120,  701350,  737431, 1503990],\n",
       "       [ 955272,  896844,  706208, 1218610, 1048154],\n",
       "       [ 970792, 1350123, 1350642,  903781,  756613],\n",
       "       [1458505, 1212198, 1145946, 1574721, 1285560],\n",
       "       [ 966814, 1359800, 1509515,  845936, 1214582]])"
      ]
     },
     "execution_count": 10,
     "metadata": {},
     "output_type": "execute_result"
    }
   ],
   "source": [
    "# Aumentar el precio en un 5% con aproximación clásica\n",
    "precios_aumento_5 = precios * 1.05\n",
    "precios_aumento_5 = np.round(precios_aumento_5).astype(int)\n",
    "precios_aumento_5"
   ]
  },
  {
   "cell_type": "code",
   "execution_count": 11,
   "id": "9b1dc3e8-98c9-4e19-b033-d0b26571e275",
   "metadata": {},
   "outputs": [
    {
     "data": {
      "text/html": [
       "<div>\n",
       "<style scoped>\n",
       "    .dataframe tbody tr th:only-of-type {\n",
       "        vertical-align: middle;\n",
       "    }\n",
       "\n",
       "    .dataframe tbody tr th {\n",
       "        vertical-align: top;\n",
       "    }\n",
       "\n",
       "    .dataframe thead th {\n",
       "        text-align: right;\n",
       "    }\n",
       "</style>\n",
       "<table border=\"1\" class=\"dataframe\">\n",
       "  <thead>\n",
       "    <tr style=\"text-align: right;\">\n",
       "      <th></th>\n",
       "      <th>Nro. Acción</th>\n",
       "      <th>Día 1</th>\n",
       "      <th>Día 2</th>\n",
       "      <th>Día 3</th>\n",
       "      <th>Día 4</th>\n",
       "      <th>Día 5</th>\n",
       "    </tr>\n",
       "  </thead>\n",
       "  <tbody>\n",
       "    <tr>\n",
       "      <th>0</th>\n",
       "      <td>1</td>\n",
       "      <td>898497</td>\n",
       "      <td>1035120</td>\n",
       "      <td>701350</td>\n",
       "      <td>737431</td>\n",
       "      <td>1503990</td>\n",
       "    </tr>\n",
       "    <tr>\n",
       "      <th>1</th>\n",
       "      <td>2</td>\n",
       "      <td>955272</td>\n",
       "      <td>896844</td>\n",
       "      <td>706208</td>\n",
       "      <td>1218610</td>\n",
       "      <td>1048154</td>\n",
       "    </tr>\n",
       "    <tr>\n",
       "      <th>2</th>\n",
       "      <td>3</td>\n",
       "      <td>970792</td>\n",
       "      <td>1350123</td>\n",
       "      <td>1350642</td>\n",
       "      <td>903781</td>\n",
       "      <td>756613</td>\n",
       "    </tr>\n",
       "    <tr>\n",
       "      <th>3</th>\n",
       "      <td>4</td>\n",
       "      <td>1458505</td>\n",
       "      <td>1212198</td>\n",
       "      <td>1145946</td>\n",
       "      <td>1574721</td>\n",
       "      <td>1285560</td>\n",
       "    </tr>\n",
       "    <tr>\n",
       "      <th>4</th>\n",
       "      <td>5</td>\n",
       "      <td>966814</td>\n",
       "      <td>1359800</td>\n",
       "      <td>1509515</td>\n",
       "      <td>845936</td>\n",
       "      <td>1214582</td>\n",
       "    </tr>\n",
       "  </tbody>\n",
       "</table>\n",
       "</div>"
      ],
      "text/plain": [
       "   Nro. Acción    Día 1    Día 2    Día 3    Día 4    Día 5\n",
       "0            1   898497  1035120   701350   737431  1503990\n",
       "1            2   955272   896844   706208  1218610  1048154\n",
       "2            3   970792  1350123  1350642   903781   756613\n",
       "3            4  1458505  1212198  1145946  1574721  1285560\n",
       "4            5   966814  1359800  1509515   845936  1214582"
      ]
     },
     "execution_count": 11,
     "metadata": {},
     "output_type": "execute_result"
    }
   ],
   "source": [
    "# Consolidar a Dataframe y formatear valores\n",
    "df_aumento_5 = pd.DataFrame(\n",
    "    {\n",
    "        \"Nro. Acción\": list(range(1, 6)),\n",
    "        \"Día 1\": precios_aumento_5[:, 0],\n",
    "        \"Día 2\": precios_aumento_5[:, 1],\n",
    "        \"Día 3\": precios_aumento_5[:, 2],\n",
    "        \"Día 4\": precios_aumento_5[:, 3],\n",
    "        \"Día 5\": precios_aumento_5[:, 4]\n",
    "    }\n",
    ")\n",
    "df_aumento_5"
   ]
  },
  {
   "cell_type": "code",
   "execution_count": 12,
   "id": "4fa48305-9dfd-4305-a9df-75efc72423d7",
   "metadata": {},
   "outputs": [
    {
     "name": "stdout",
     "output_type": "stream",
     "text": [
      "Precios de Acciones aumentado en un 5%\n",
      "\n"
     ]
    },
    {
     "data": {
      "text/html": [
       "<div>\n",
       "<style scoped>\n",
       "    .dataframe tbody tr th:only-of-type {\n",
       "        vertical-align: middle;\n",
       "    }\n",
       "\n",
       "    .dataframe tbody tr th {\n",
       "        vertical-align: top;\n",
       "    }\n",
       "\n",
       "    .dataframe thead th {\n",
       "        text-align: right;\n",
       "    }\n",
       "</style>\n",
       "<table border=\"1\" class=\"dataframe\">\n",
       "  <thead>\n",
       "    <tr style=\"text-align: right;\">\n",
       "      <th></th>\n",
       "      <th>Nro. Acción</th>\n",
       "      <th>Día 1</th>\n",
       "      <th>Día 2</th>\n",
       "      <th>Día 3</th>\n",
       "      <th>Día 4</th>\n",
       "      <th>Día 5</th>\n",
       "    </tr>\n",
       "  </thead>\n",
       "  <tbody>\n",
       "    <tr>\n",
       "      <th>0</th>\n",
       "      <td>1</td>\n",
       "      <td>$898.497</td>\n",
       "      <td>$1.035.120</td>\n",
       "      <td>$701.350</td>\n",
       "      <td>$737.431</td>\n",
       "      <td>$1.503.990</td>\n",
       "    </tr>\n",
       "    <tr>\n",
       "      <th>1</th>\n",
       "      <td>2</td>\n",
       "      <td>$955.272</td>\n",
       "      <td>$896.844</td>\n",
       "      <td>$706.208</td>\n",
       "      <td>$1.218.610</td>\n",
       "      <td>$1.048.154</td>\n",
       "    </tr>\n",
       "    <tr>\n",
       "      <th>2</th>\n",
       "      <td>3</td>\n",
       "      <td>$970.792</td>\n",
       "      <td>$1.350.123</td>\n",
       "      <td>$1.350.642</td>\n",
       "      <td>$903.781</td>\n",
       "      <td>$756.613</td>\n",
       "    </tr>\n",
       "    <tr>\n",
       "      <th>3</th>\n",
       "      <td>4</td>\n",
       "      <td>$1.458.505</td>\n",
       "      <td>$1.212.198</td>\n",
       "      <td>$1.145.946</td>\n",
       "      <td>$1.574.721</td>\n",
       "      <td>$1.285.560</td>\n",
       "    </tr>\n",
       "    <tr>\n",
       "      <th>4</th>\n",
       "      <td>5</td>\n",
       "      <td>$966.814</td>\n",
       "      <td>$1.359.800</td>\n",
       "      <td>$1.509.515</td>\n",
       "      <td>$845.936</td>\n",
       "      <td>$1.214.582</td>\n",
       "    </tr>\n",
       "  </tbody>\n",
       "</table>\n",
       "</div>"
      ],
      "text/plain": [
       "   Nro. Acción       Día 1       Día 2       Día 3       Día 4       Día 5\n",
       "0            1    $898.497  $1.035.120    $701.350    $737.431  $1.503.990\n",
       "1            2    $955.272    $896.844    $706.208  $1.218.610  $1.048.154\n",
       "2            3    $970.792  $1.350.123  $1.350.642    $903.781    $756.613\n",
       "3            4  $1.458.505  $1.212.198  $1.145.946  $1.574.721  $1.285.560\n",
       "4            5    $966.814  $1.359.800  $1.509.515    $845.936  $1.214.582"
      ]
     },
     "execution_count": 12,
     "metadata": {},
     "output_type": "execute_result"
    }
   ],
   "source": [
    "# Dar formota a valores\n",
    "df_aumento_f = df_aumento_5.copy()\n",
    "for dia in [\"Día 1\", \"Día 2\", \"Día 3\", \"Día 4\", \"Día 5\"]:\n",
    "    df_aumento_f[dia] = df_aumento_f[dia].apply(lambda x: f\"${x:,}\".replace(\",\", \".\"))\n",
    "\n",
    "print(\"Precios de Acciones aumentado en un 5%\\n\")\n",
    "df_aumento_f"
   ]
  },
  {
   "cell_type": "markdown",
   "id": "d9ee48e2-4ef8-40a1-bf6e-8987e140a71d",
   "metadata": {},
   "source": [
    "### Comparación con otros métodos (sin NumPy)\n",
    "\n",
    "**Cálculos promedio, valores máximos y mínimos y Aumentar en 5% el precio de las acciones**"
   ]
  },
  {
   "cell_type": "code",
   "execution_count": 13,
   "id": "5cfd431f-9178-4009-8eb3-cdcfb4b89191",
   "metadata": {},
   "outputs": [
    {
     "data": {
      "text/plain": [
       "[928835.6, 919064.4, 1015609.8, 1271796.0, 1123170.8]"
      ]
     },
     "execution_count": 13,
     "metadata": {},
     "output_type": "execute_result"
    }
   ],
   "source": [
    "# Calcular promedios\n",
    "precios_lista = precios.tolist()\n",
    "promedios_sin_numpy = []\n",
    "\n",
    "for fila in precios_lista:\n",
    "    promedio = sum(fila) / len(fila)\n",
    "    promedios_sin_numpy.append(promedio)\n",
    "promedios_sin_numpy"
   ]
  },
  {
   "cell_type": "code",
   "execution_count": 14,
   "id": "07e5a5a9-a7a0-4ad7-b8c2-622078519024",
   "metadata": {},
   "outputs": [
    {
     "name": "stdout",
     "output_type": "stream",
     "text": [
      "El valor mínimo es el siguiente: 667952\n",
      "El valor máximo es el siguiente: 1499734\n"
     ]
    }
   ],
   "source": [
    "# Convertir matriz NumPy a lista de listas\n",
    "precios_lista = precios.tolist()\n",
    "\n",
    "# Valor mínimo\n",
    "minimo = precios_lista[0][0]\n",
    "for fila in precios_lista:\n",
    "    for valor in fila:\n",
    "        if valor < minimo:\n",
    "            minimo = valor\n",
    "\n",
    "# Valor máximo\n",
    "maximo = precios_lista[0][0]\n",
    "for fila in precios_lista:\n",
    "    for valor in fila:\n",
    "        if valor > maximo:\n",
    "            maximo = valor\n",
    "print(f\"El valor mínimo es el siguiente: {minimo}\")\n",
    "print(f\"El valor máximo es el siguiente: {maximo}\")"
   ]
  },
  {
   "cell_type": "code",
   "execution_count": 15,
   "id": "cb032c99-e815-4a7f-9e58-84bb9083c66e",
   "metadata": {},
   "outputs": [
    {
     "data": {
      "text/plain": [
       "[[898496.55, 1035120.4500000001, 701349.6, 737430.75, 1503989.55],\n",
       " [955272.15,\n",
       "  896843.8500000001,\n",
       "  706207.9500000001,\n",
       "  1218610.05,\n",
       "  1048154.1000000001],\n",
       " [970792.2000000001,\n",
       "  1350122.55,\n",
       "  1350642.3,\n",
       "  903781.2000000001,\n",
       "  756613.2000000001],\n",
       " [1458504.6, 1212197.7, 1145945.85, 1574720.7, 1285560.1500000001],\n",
       " [966813.75, 1359800.4000000001, 1509514.6500000001, 845935.65, 1214582.25]]"
      ]
     },
     "execution_count": 15,
     "metadata": {},
     "output_type": "execute_result"
    }
   ],
   "source": [
    "# Aumentar los precios en un 5%\n",
    "precios_aumento_sin_numpy = []\n",
    "\n",
    "for fila in precios_lista:\n",
    "    nueva_fila = [x * 1.05 for x in fila]\n",
    "    precios_aumento_sin_numpy.append(nueva_fila)\n",
    "precios_aumento_sin_numpy"
   ]
  },
  {
   "cell_type": "markdown",
   "id": "bb6baf40-bc16-4d65-9958-985361337787",
   "metadata": {},
   "source": [
    "<br>\n",
    "\n",
    "### Explicación\n",
    "\n",
    "\n",
    "**Fórmula de Variación:**\n",
    "\n",
    "Para calcular la variación se usa la siguiente formula.\n",
    "\n",
    "$$\n",
    "\\text{variación} = \\left( \\frac{\\text{precio}_{\\text{día actual}} - \\text{precio}_{\\text{día anterior}}}{\\text{precio}_{\\text{día anterior}}} \\right) \\times 100\n",
    "$$\n",
    "\n",
    "**Normalización Min-Max:**\n",
    "\n",
    "Transforma los valores numéricos para que estén en el rango entre 0 y 1, manteniendo la proporción relativa entre ellos, es una técnica fundamental en análisis de datos y Machine Learning.\n",
    "\n",
    "**Indexación Avanzada:**\n",
    "\n",
    "Permite acceder, extraer o modificar subconjuntos de datos en arreglos utilizando listas o arrays de índices, en lugar de usar solo rangos simples.\n",
    "\n",
    "**Broadcasting:**\n",
    "\n",
    "Es la capacidad de NumPy para aplicar operaciones entre arrays de diferentes formas (shapes) automáticamente, extendiendo los valores más pequeños sin necesidad de algún iterador\n",
    "\n",
    "**Comparar con otros métodos distintos a NumPy**\n",
    "\n",
    "NumPy permite realizar tareas complejas de forma mucho más eficiente, legible y escalable que usando estructuras básicas de Python.\n",
    "Cuando se trabaja con grandes volúmenes de datos numéricos, NumPy reduce el tiempo de cómputo y la complejidad del código."
   ]
  },
  {
   "cell_type": "code",
   "execution_count": null,
   "id": "cb39a819-2761-49f9-a407-070f82965787",
   "metadata": {},
   "outputs": [],
   "source": []
  }
 ],
 "metadata": {
  "kernelspec": {
   "display_name": "Python 3 (ipykernel)",
   "language": "python",
   "name": "python3"
  },
  "language_info": {
   "codemirror_mode": {
    "name": "ipython",
    "version": 3
   },
   "file_extension": ".py",
   "mimetype": "text/x-python",
   "name": "python",
   "nbconvert_exporter": "python",
   "pygments_lexer": "ipython3",
   "version": "3.13.3"
  }
 },
 "nbformat": 4,
 "nbformat_minor": 5
}
